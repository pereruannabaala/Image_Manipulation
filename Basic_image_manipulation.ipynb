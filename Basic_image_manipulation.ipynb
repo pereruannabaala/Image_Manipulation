{
  "nbformat": 4,
  "nbformat_minor": 0,
  "metadata": {
    "colab": {
      "provenance": [],
      "authorship_tag": "ABX9TyNettlx1s/WUPE5JKuuamXR",
      "include_colab_link": true
    },
    "kernelspec": {
      "name": "python3",
      "display_name": "Python 3"
    },
    "language_info": {
      "name": "python"
    }
  },
  "cells": [
    {
      "cell_type": "markdown",
      "metadata": {
        "id": "view-in-github",
        "colab_type": "text"
      },
      "source": [
        "<a href=\"https://colab.research.google.com/github/pereruannabaala/Image_Manipulation/blob/main/Basic_image_manipulation.ipynb\" target=\"_parent\"><img src=\"https://colab.research.google.com/assets/colab-badge.svg\" alt=\"Open In Colab\"/></a>"
      ]
    },
    {
      "cell_type": "markdown",
      "source": [
        "**Basic Image Manipulation**"
      ],
      "metadata": {
        "id": "UaB_bt0DujZk"
      }
    },
    {
      "cell_type": "code",
      "source": [
        "import os\n",
        "import cv2\n",
        "import numpy as np\n",
        "import matplotlib.pyplot as plt\n",
        "\n",
        "from zipfile import ZipFile\n",
        "from urllib.request import urlretrieve\n",
        "\n",
        "from IPython.display import Image\n",
        "\n",
        "%matplotlib inline"
      ],
      "metadata": {
        "id": "C6QXFZ-eupm-"
      },
      "execution_count": 5,
      "outputs": []
    },
    {
      "cell_type": "markdown",
      "source": [
        "*Download Assests*"
      ],
      "metadata": {
        "id": "cvs9Ip35u5pX"
      }
    },
    {
      "cell_type": "code",
      "execution_count": 6,
      "metadata": {
        "ExecuteTime": {
          "end_time": "2023-03-29T19:16:38.333425Z",
          "start_time": "2023-03-29T19:16:38.319415Z"
        },
        "id": "BDhwFfuNYjVs"
      },
      "outputs": [],
      "source": [
        "def download_and_unzip(url, save_path):\n",
        "    print(f\"Downloading and extracting assests....\", end=\"\")\n",
        "\n",
        "    # Downloading zip file using urllib package.\n",
        "    urlretrieve(url, save_path)\n",
        "\n",
        "    try:\n",
        "        # Extracting zip file using the zipfile package.\n",
        "        with ZipFile(save_path) as z:\n",
        "            # Extract ZIP file contents in the same directory.\n",
        "            z.extractall(os.path.split(save_path)[0])\n",
        "\n",
        "        print(\"Done\")\n",
        "\n",
        "    except Exception as e:\n",
        "        print(\"\\nInvalid file.\", e)"
      ]
    },
    {
      "cell_type": "code",
      "execution_count": 10,
      "metadata": {
        "ExecuteTime": {
          "end_time": "2023-03-29T19:17:04.381685Z",
          "start_time": "2023-03-29T19:16:38.336417Z"
        },
        "id": "0AhqBWt0YjVt"
      },
      "outputs": [],
      "source": [
        "URL = r\"https://www.dropbox.com/s/rys6f1vprily2bg/opencv_bootcamp_assets_NB2.zip?dl=1\"\n",
        "\n",
        "asset_zip_path = os.path.join(os.getcwd(), \"opencv_bootcamp_assets_NB2.zip\")\n",
        "\n",
        "# Download if assest ZIP does not exists.\n",
        "if not os.path.exists(asset_zip_path):\n",
        "    download_and_unzip(URL, asset_zip_path)"
      ]
    },
    {
      "cell_type": "code",
      "source": [],
      "metadata": {
        "id": "aNrTI0ShxvXq"
      },
      "execution_count": null,
      "outputs": []
    },
    {
      "cell_type": "code",
      "execution_count": 12,
      "metadata": {
        "ExecuteTime": {
          "end_time": "2023-03-29T19:17:04.566695Z",
          "start_time": "2023-03-29T19:17:04.384687Z"
        },
        "colab": {
          "base_uri": "https://localhost:8080/",
          "height": 742
        },
        "id": "sYUww_cSYjVu",
        "outputId": "65019ae0-6db3-4d0b-f7a3-02a22068353a"
      },
      "outputs": [
        {
          "output_type": "stream",
          "name": "stdout",
          "text": [
            "[[  0   0   0   0   0   0 255 255 255 255 255 255   0   0   0   0   0   0]\n",
            " [  0   0   0   0   0   0 255 255 255 255 255 255   0   0   0   0   0   0]\n",
            " [  0   0   0   0   0   0 255 255 255 255 255 255   0   0   0   0   0   0]\n",
            " [  0   0   0   0   0   0 255 255 255 255 255 255   0   0   0   0   0   0]\n",
            " [  0   0   0   0   0   0 255 255 255 255 255 255   0   0   0   0   0   0]\n",
            " [  0   0   0   0   0   0 255 255 255 255 255 255   0   0   0   0   0   0]\n",
            " [255 255 255 255 255 255   0   0   0   0   0   0 255 255 255 255 255 255]\n",
            " [255 255 255 255 255 255   0   0   0   0   0   0 255 255 255 255 255 255]\n",
            " [255 255 255 255 255 255   0   0   0   0   0   0 255 255 255 255 255 255]\n",
            " [255 255 255 255 255 255   0   0   0   0   0   0 255 255 255 255 255 255]\n",
            " [255 255 255 255 255 255   0   0   0   0   0   0 255 255 255 255 255 255]\n",
            " [255 255 255 255 255 255   0   0   0   0   0   0 255 255 255 255 255 255]\n",
            " [  0   0   0   0   0   0 255 255 255 255 255 255   0   0   0   0   0   0]\n",
            " [  0   0   0   0   0   0 255 255 255 255 255 255   0   0   0   0   0   0]\n",
            " [  0   0   0   0   0   0 255 255 255 255 255 255   0   0   0   0   0   0]\n",
            " [  0   0   0   0   0   0 255 255 255 255 255 255   0   0   0   0   0   0]\n",
            " [  0   0   0   0   0   0 255 255 255 255 255 255   0   0   0   0   0   0]\n",
            " [  0   0   0   0   0   0 255 255 255 255 255 255   0   0   0   0   0   0]]\n"
          ]
        },
        {
          "output_type": "display_data",
          "data": {
            "text/plain": [
              "<Figure size 640x480 with 1 Axes>"
            ],
            "image/png": "[encoded data removed]"
          },
          "metadata": {}
        }
      ],
      "source": [
        "# Read image as gray scale.\n",
        "cb_img = cv2.imread(\"checkerboard_18x18.png\", 0)\n",
        "\n",
        "# Set color map to gray scale for proper rendering.\n",
        "plt.imshow(cb_img, cmap=\"gray\")\n",
        "print(cb_img)"
      ]
    },
    {
      "cell_type": "code",
      "source": [],
      "metadata": {
        "id": "MZBroobSx7HP"
      },
      "execution_count": null,
      "outputs": []
    }
  ]
}